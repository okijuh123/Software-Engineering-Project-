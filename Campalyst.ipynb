{
 "cells": [
  {
   "cell_type": "code",
   "execution_count": 22,
   "metadata": {
    "scrolled": true,
    "slideshow": {
     "slide_type": "skip"
    }
   },
   "outputs": [],
   "source": [
    "from IPython.core.interactiveshell import InteractiveShell\n",
    "InteractiveShell.ast_node_interactivity = \"all\"\n",
    "import datetime\n",
    "from datetime import timedelta\n"
   ]
  },
  {
   "cell_type": "code",
   "execution_count": 25,
   "metadata": {
    "scrolled": true,
    "slideshow": {
     "slide_type": "skip"
    }
   },
   "outputs": [],
   "source": [
    "class Society:\n",
    "    \"\"\"\n",
    "    Class description: This abstracts a real life UCL Society (like UCL Business Society).\n",
    "    Relationships:\n",
    "        It will multiple committee members.\n",
    "        It will contain multiple students.\n",
    "        It will contain a single society president.\n",
    "        It will contain multiple events.\n",
    "        \n",
    "    Parameters: name\n",
    "    Properties:\n",
    "        Instance attributes:\n",
    "            self._name (string),\n",
    "            self._students (list of instances of the Student object),\n",
    "            self._events (list of instances of events object),\n",
    "            self._society_president (instance of society member object)\n",
    "        Class attributes:\n",
    "            cls._all_societies (a list of all Society instances)\n",
    "    \"\"\"\n",
    "\n",
    "    _all_societies = []\n",
    "\n",
    "    def __init__(self, name):\n",
    "        \"\"\"\n",
    "        Constructor of the Society class\n",
    "        Parameters: name\n",
    "        Returns: an instance of the class Society\n",
    "        \"\"\"\n",
    "        self._name = name\n",
    "        self._students = []\n",
    "        self._committee_members = []\n",
    "        Society._all_societies.append(self) \n",
    "\n",
    "    def get_name(self):\n",
    "        return self._name\n",
    "\n",
    "    def set_name(self, name):\n",
    "        \"\"\"\n",
    "        We need to make sure that name is a string\n",
    "        \"\"\"\n",
    "        assert isinstance(name, str)\n",
    "        self._name = name\n",
    "\n",
    "    \n",
    "    def get_committee_members(self):\n",
    "        return self._committee_members\n",
    "    \n",
    "        \n",
    "    def add_committee_member_to_society(self, committeeMember):\n",
    "        self._committee_members.append(committeeMember)\n",
    "    \n",
    "    \n",
    "    \n",
    "    @classmethod\n",
    "    def get_all_societies(cls):\n",
    "        return cls._all_societies\n",
    "\n",
    "    @classmethod\n",
    "    def get_all_societies_members(cls):\n",
    "        return cls._all_societies \n"
   ]
  },
  {
   "cell_type": "code",
   "execution_count": 3,
   "metadata": {
    "scrolled": true,
    "slideshow": {
     "slide_type": "skip"
    }
   },
   "outputs": [],
   "source": [
    "class UCLPerson:\n",
    "    \"\"\"\n",
    "    Class description: This abstracts an UCL Person.\n",
    "    Relationships:\n",
    "        It will be a Superclass to the Student and Commitee Member . \n",
    "    Parameters: first_name, middle_name, last_name\n",
    "    Properties:\n",
    "        Instance attributes:\n",
    "            self._first_name (string),\n",
    "            self._middle_name (string),\n",
    "            self._last_name (string),\n",
    "    \"\"\"\n",
    "\n",
    "    def __init__(self, first_name, middle_name, last_name):\n",
    "        \"\"\"\n",
    "        Constructor of the UCLPerson class\n",
    "        Parameters: first_name, middle_name, last_name\n",
    "        Returns: an instance of the class UCLPerson\n",
    "        \"\"\"\n",
    "        self._first_name = first_name\n",
    "        self._middle_name = middle_name\n",
    "        self._last_name = last_name\n",
    "\n",
    "    @property\n",
    "    def first_name(self):\n",
    "        return self._first_name\n",
    "\n",
    "    @first_name.setter\n",
    "    def first_name(self, first_name):\n",
    "        print(\"Look, setter set_first_name is being called.\")\n",
    "        self._first_name = first_name\n",
    "\n",
    "    @property\n",
    "    def last_name(self):\n",
    "        return self._last_name\n",
    "\n",
    "    @last_name.setter\n",
    "    def last_name(self, last_name):\n",
    "        print(\"Look, setter set_last_name setter is being called.\")\n",
    "        self._last_name = last_name\n",
    "\n",
    "    @property\n",
    "    def middle_name(self):\n",
    "        return self._middle_name\n",
    "\n",
    "    @middle_name.setter\n",
    "    def middle_name(self, middle_name):\n",
    "        print(\"Look, setter set_middle_name is being called.\")\n",
    "        self._middle_name = middle_name\n",
    "\n",
    "    def get_full_name(self):\n",
    "        return f\"{self.first_name} {self.middle_name} {self.last_name}\"\n",
    "    \n",
    "    def get_name(self):\n",
    "        return self._first_name\n"
   ]
  },
  {
   "cell_type": "code",
   "execution_count": 4,
   "metadata": {
    "scrolled": true,
    "slideshow": {
     "slide_type": "skip"
    }
   },
   "outputs": [],
   "source": [
    "class Student(UCLPerson):\n",
    "    \"\"\"\n",
    "    Class description: This abstracts a Student which extends the UCLPerson class.\n",
    "    Relationships:\n",
    "        It is a Student which in turn is an UCLPerson.\n",
    "        Instances of this class can be part of Society.\n",
    "        Instances of this class can be part a Committee Member.\n",
    "    Parameters: first_name, middle_name, last_name, student_id\n",
    "    Properties:\n",
    "        Instance attributes:\n",
    "            self._first_name (string),\n",
    "            self._middle_name (string),\n",
    "            self._last_name (string),\n",
    "            self._student_id (string),\n",
    "    \"\"\"\n",
    "\n",
    "    _all_students = []\n",
    "\n",
    "    def __init__(self, first_name, middle_name, last_name, student_id,):\n",
    "        \"\"\"\n",
    "        Constructor of the Student class\n",
    "        Parameters: first_name, middle_name, last_name\n",
    "        It should call the constructor of the UCLPerson class\n",
    "        Returns: an instance of the class Student\n",
    "        \"\"\"\n",
    "        UCLPerson.__init__(self, first_name, middle_name, last_name)\n",
    "        self._student_id = student_id\n",
    "        Student._all_students.append(self)\n",
    "\n",
    "    @property\n",
    "    def student_id(self):\n",
    "        return self._student_id\n",
    "\n",
    "    @student_id.setter\n",
    "    def student_id(self, student_id):\n",
    "       \n",
    "        print(\"Look, setter set_student_id is being called.\") # TEST CODE, to be removed before deployment\n",
    "        self._student_id = student_id\n",
    "        \n",
    "    \n",
    "        \n",
    "\n",
    "    def get_name(self):\n",
    "        return f\"{self.first_name} {self.middle_name} {self.last_name} student_id:{self.student_id}\"\n"
   ]
  },
  {
   "cell_type": "code",
   "execution_count": 13,
   "metadata": {
    "scrolled": true,
    "slideshow": {
     "slide_type": "skip"
    }
   },
   "outputs": [],
   "source": [
    "class SocietyCommitteeMember(Student):\n",
    "    \"\"\"\n",
    "    Class description: This abstracts a Committee Member which extends the Student Class\n",
    "        It is a Committee Memember which in turn is a Student and a UCLPerson.\n",
    "        Instances of this class can add Events to Society that they manage\n",
    "    \"\"\"\n",
    "    \n",
    "    _all_SocietyCommitteeMember = []\n",
    "\n",
    "    def __init__(self,first_name, middle_name, last_name,student_id,):\n",
    "        \"\"\"\n",
    "        Constructor of the TeachingAssistant class\n",
    "        Parameters: first_name, middle_name, last_name\n",
    "        It should call the constructor of the Instructor class\n",
    "        Returns: an instance of the class TeachingAssistant\n",
    "        \"\"\"\n",
    "        self._societies=[]\n",
    "        #self._events=[]\n",
    "        #self.society_role = society_role\n",
    "        Student.__init__(self, first_name, middle_name, last_name,student_id,)\n",
    "        \n",
    "    def add_committee_member_to_society(self, society):\n",
    "       # assert isinstance(society, Society)\n",
    "        self._societies.append(society)\n",
    "        society.add_committee_member_to_society(self)\n",
    "    \n",
    "    def get_societies_of_committee_member(self):\n",
    "        return self._society\n",
    "    \n",
    "    def get_committee_members(self):\n",
    "        return self._all_SocietyCommitteeMember\n",
    "        \n",
    "    @property\n",
    "    def get_society_role(self):\n",
    "       return self._society_role\n",
    " \n",
    "    def get_name(self):\n",
    "        return f\"{self.first_name} {self.middle_name} {self.last_name} student_id:{self.student_id}\"\n",
    "\n",
    "        \n",
    "        \n",
    "  "
   ]
  },
  {
   "cell_type": "code",
   "execution_count": 7,
   "metadata": {
    "scrolled": true,
    "slideshow": {
     "slide_type": "skip"
    }
   },
   "outputs": [
    {
     "name": "stdout",
     "output_type": "stream",
     "text": [
      "Enter Event Name: qwer\n",
      "Enter Event Host: qwer\n",
      "Enter Event Type: qwer\n",
      "Enter Event location:qwe\n",
      "Enter a year 2020\n",
      "Enter a month 12\n",
      "Enter a day 12\n",
      "Enter event time: 1232\n",
      "Event Details: qwer qwer qwer qwe 1232 2020-12-12\n"
     ]
    }
   ],
   "source": [
    "class Events:\n",
    "    _all_events = []\n",
    "    def __init__(self, name,host):\n",
    "        self._name = name\n",
    "        self._host = host\n",
    "     \n",
    "    \n",
    "    def eventDetails ():\n",
    "        name = input('Enter Event Name: ')\n",
    "        host = input('Enter Event Host: ')\n",
    "        eventType = input('Enter Event Type: ')\n",
    "        location = input('Enter Event location:')\n",
    "        \n",
    "        year = int(input('Enter a year '))\n",
    "        month = int(input('Enter a month '))\n",
    "        day = int(input('Enter a day '))\n",
    "        time = input('Enter event time: ')\n",
    "        date1 = datetime.date(year, month, day)\n",
    "        print('Event Details:',name,host,eventType,location,time,date1)\n",
    "       \n",
    "Events.eventDetails()"
   ]
  },
  {
   "cell_type": "code",
   "execution_count": 9,
   "metadata": {
    "scrolled": true
   },
   "outputs": [
    {
     "name": "stdout",
     "output_type": "stream",
     "text": [
      "No Society Registered \n",
      "Enter Society Name: UCL Guild\n",
      "Society Registered is:  UCL Guild\n"
     ]
    }
   ],
   "source": [
    "# Create a Course instance\n",
    "society1 = Society(\"No Society Registered \")\n",
    "print(society1.get_name())\n",
    "\n",
    "# Change the Course instance name\n",
    "society1.set_name(input(\"Enter Society Name: \"))\n",
    "print('Society Registered is: ', society1.get_name())\n",
    "\n"
   ]
  },
  {
   "cell_type": "code",
   "execution_count": 14,
   "metadata": {},
   "outputs": [
    {
     "name": "stdout",
     "output_type": "stream",
     "text": [
      "First Name Middle Name Last Name student_id: Student Number\n",
      "Enter Committee Member First Name:brendan\n",
      "Look, setter set_first_name is being called.\n",
      "Enter Committee Member Middle Name:\n",
      "Look, setter set_middle_name is being called.\n",
      "Enter Committee Member Last Name:foo\n",
      "Look, setter set_last_name setter is being called.\n",
      "Enter Committee Member Student Id:1234\n",
      "Look, setter set_student_id is being called.\n",
      "brendan  foo student_id:1234\n"
     ]
    }
   ],
   "source": [
    "societyCommitteeMember1 = SocietyCommitteeMember(\"First Name\", \"Middle Name\",'Last Name',\" Student Number\")\n",
    "print (societyCommitteeMember1.get_name()) \n",
    "societyCommitteeMember1.first_name = input('Enter Committee Member First Name:')\n",
    "\n",
    "societyCommitteeMember1.middle_name = input('Enter Committee Member Middle Name:')\n",
    "\n",
    "societyCommitteeMember1.last_name = input('Enter Committee Member Last Name:')\n",
    "\n",
    "societyCommitteeMember1.student_id = input('Enter Committee Member Student Id:') \n",
    "\n",
    "print (societyCommitteeMember1.get_name())\n",
    "\n",
    "\n"
   ]
  },
  {
   "cell_type": "code",
   "execution_count": 15,
   "metadata": {},
   "outputs": [],
   "source": [
    "# Define a utility function to interogte a list\n",
    "def get_names_from_list(aList):\n",
    "    for i in aList:\n",
    "        print (i.get_name())"
   ]
  },
  {
   "cell_type": "code",
   "execution_count": 1,
   "metadata": {
    "scrolled": true
   },
   "outputs": [
    {
     "ename": "NameError",
     "evalue": "name 'societyCommitteeMember1' is not defined",
     "output_type": "error",
     "traceback": [
      "\u001b[1;31m---------------------------------------------------------------------------\u001b[0m",
      "\u001b[1;31mNameError\u001b[0m                                 Traceback (most recent call last)",
      "\u001b[1;32m<ipython-input-1-439528357b16>\u001b[0m in \u001b[0;36m<module>\u001b[1;34m\u001b[0m\n\u001b[0;32m      1\u001b[0m \u001b[1;31m# Associate the Committee Member with the Societty\u001b[0m\u001b[1;33m\u001b[0m\u001b[1;33m\u001b[0m\u001b[1;33m\u001b[0m\u001b[0m\n\u001b[1;32m----> 2\u001b[1;33m \u001b[0msocietyCommitteeMember1\u001b[0m\u001b[1;33m.\u001b[0m\u001b[0madd_committee_member_to_society\u001b[0m\u001b[1;33m(\u001b[0m\u001b[0msociety1\u001b[0m\u001b[1;33m)\u001b[0m\u001b[1;33m\u001b[0m\u001b[1;33m\u001b[0m\u001b[0m\n\u001b[0m\u001b[0;32m      3\u001b[0m \u001b[1;33m\u001b[0m\u001b[0m\n\u001b[0;32m      4\u001b[0m \u001b[1;33m\u001b[0m\u001b[0m\n\u001b[0;32m      5\u001b[0m \u001b[1;31m# Retrieve the society list from the SocietyCommitteeMember instance\u001b[0m\u001b[1;33m\u001b[0m\u001b[1;33m\u001b[0m\u001b[1;33m\u001b[0m\u001b[0m\n",
      "\u001b[1;31mNameError\u001b[0m: name 'societyCommitteeMember1' is not defined"
     ]
    }
   ],
   "source": [
    "# Associate the Committee Member with the Societty\n",
    "societyCommitteeMember1.add_committee_member_to_society(society1)\n",
    "\n",
    "\n",
    "# Retrieve the society list from the SocietyCommitteeMember instance\n",
    "societies = society1.get_societies_of_committee_member()\n",
    "\n",
    "get_names_from_list(societies)\n",
    "get_names_from_list(committee_member)\n"
   ]
  },
  {
   "cell_type": "code",
   "execution_count": null,
   "metadata": {},
   "outputs": [],
   "source": []
  },
  {
   "cell_type": "code",
   "execution_count": null,
   "metadata": {},
   "outputs": [],
   "source": []
  },
  {
   "cell_type": "code",
   "execution_count": null,
   "metadata": {},
   "outputs": [],
   "source": []
  },
  {
   "cell_type": "code",
   "execution_count": null,
   "metadata": {},
   "outputs": [],
   "source": []
  }
 ],
 "metadata": {
  "celltoolbar": "Slideshow",
  "kernelspec": {
   "display_name": "Python 3",
   "language": "python",
   "name": "python3"
  },
  "language_info": {
   "codemirror_mode": {
    "name": "ipython",
    "version": 3
   },
   "file_extension": ".py",
   "mimetype": "text/x-python",
   "name": "python",
   "nbconvert_exporter": "python",
   "pygments_lexer": "ipython3",
   "version": "3.7.6"
  }
 },
 "nbformat": 4,
 "nbformat_minor": 4
}
